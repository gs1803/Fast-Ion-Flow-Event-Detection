{
 "cells": [
  {
   "cell_type": "code",
   "execution_count": null,
   "metadata": {},
   "outputs": [],
   "source": [
    "import numpy as np\n",
    "import pandas as pd\n",
    "import scikitplot as skplt\n",
    "import matplotlib.pyplot as plt\n",
    "\n",
    "from xgboost import XGBClassifier\n",
    "\n",
    "from sklearn.metrics import classification_report\n",
    "from utils.model_inference_plots import *\n",
    "\n",
    "import warnings\n",
    "warnings.simplefilter(action='ignore', category=FutureWarning)"
   ]
  },
  {
   "cell_type": "code",
   "execution_count": null,
   "metadata": {},
   "outputs": [],
   "source": [
    "df = pd.read_parquet('data/final_model_data_all_scaled.parquet')"
   ]
  },
  {
   "cell_type": "code",
   "execution_count": 3,
   "metadata": {},
   "outputs": [],
   "source": [
    "X = df[['Bx', 'By', 'Bz', 'Bx_lag_1', 'Bx_lag_2', 'By_lag_1',\n",
    "        'By_lag_2', 'Bz_lag_1', 'Bz_lag_2', 'Bx_conditional_vol',\n",
    "        'By_conditional_vol', 'Bz_conditional_vol', 'Bx_rolling_stdev',\n",
    "        'By_rolling_stdev', 'Bz_rolling_stdev']].values\n",
    "\n",
    "y = df['Event_label_80'].values"
   ]
  },
  {
   "cell_type": "code",
   "execution_count": 4,
   "metadata": {},
   "outputs": [],
   "source": [
    "def make_metrics_plots(y_test, y_pred, y_pred_proba):\n",
    "    fig, axes = plt.subplots(2, 2, figsize=(15, 12))\n",
    "    skplt.metrics.plot_confusion_matrix(y_test, y_pred, ax=axes[0, 0])\n",
    "\n",
    "    if y_pred_proba.shape[1] == 1:\n",
    "        y_pred_proba = np.hstack([1 - y_pred_proba, y_pred_proba])\n",
    "\n",
    "    skplt.metrics.plot_roc(y_test, y_pred_proba, ax=axes[0, 1])\n",
    "    skplt.metrics.plot_precision_recall(y_test, y_pred_proba, ax=axes[1, 0])\n",
    "    skplt.metrics.plot_cumulative_gain(y_test, y_pred_proba, ax=axes[1, 1])\n",
    "\n",
    "    plt.show()"
   ]
  },
  {
   "cell_type": "code",
   "execution_count": null,
   "metadata": {},
   "outputs": [],
   "source": [
    "split = int(len(df) * 0.8)\n",
    "\n",
    "X_train, X_test = X[:split], X[split:]\n",
    "y_train, y_test = y[:split], y[split:]"
   ]
  },
  {
   "cell_type": "code",
   "execution_count": null,
   "metadata": {},
   "outputs": [],
   "source": [
    "clf = XGBClassifier(max_depth=5, random_state=42)\n",
    "clf.fit(X_train, y_train)\n",
    "y_pred = clf.predict(X_test)"
   ]
  },
  {
   "cell_type": "code",
   "execution_count": 6,
   "metadata": {},
   "outputs": [
    {
     "name": "stdout",
     "output_type": "stream",
     "text": [
      "              precision    recall  f1-score   support\n",
      "\n",
      "           0       0.82      0.89      0.85   7474465\n",
      "           1       0.76      0.64      0.69   4009036\n",
      "\n",
      "    accuracy                           0.80  11483501\n",
      "   macro avg       0.79      0.76      0.77  11483501\n",
      "weighted avg       0.80      0.80      0.80  11483501\n",
      "\n"
     ]
    }
   ],
   "source": [
    "print(classification_report(y_test, y_pred))"
   ]
  },
  {
   "cell_type": "code",
   "execution_count": null,
   "metadata": {},
   "outputs": [],
   "source": []
  }
 ],
 "metadata": {
  "kernelspec": {
   "display_name": "space_dev",
   "language": "python",
   "name": "python3"
  },
  "language_info": {
   "codemirror_mode": {
    "name": "ipython",
    "version": 3
   },
   "file_extension": ".py",
   "mimetype": "text/x-python",
   "name": "python",
   "nbconvert_exporter": "python",
   "pygments_lexer": "ipython3",
   "version": "3.11.11"
  }
 },
 "nbformat": 4,
 "nbformat_minor": 2
}
