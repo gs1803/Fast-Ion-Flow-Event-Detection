{
 "cells": [
  {
   "cell_type": "code",
   "execution_count": null,
   "id": "6e5dde0b",
   "metadata": {},
   "outputs": [],
   "source": [
    "%load_ext autoreload\n",
    "%autoreload 2\n",
    "\n",
    "import pandas as pd\n",
    "\n",
    "from utils.download_data import download_themis_data\n",
    "from utils.process_data_model import *\n",
    "\n",
    "import warnings\n",
    "warnings.simplefilter(action='ignore', category=FutureWarning)"
   ]
  },
  {
   "cell_type": "code",
   "execution_count": null,
   "id": "58dfbec4",
   "metadata": {},
   "outputs": [],
   "source": [
    "for year in range(2007, 2026):\n",
    "    start_date = f\"{year}0101\"\n",
    "    end_date = f\"{year}1231\"\n",
    "\n",
    "    base_url = f\"https://themis.ssl.berkeley.edu/data/themis/tha/l2/fgm/{year}/\"\n",
    "    # base_url = f\"https://themis.ssl.berkeley.edu/data/themis/tha/l2/mom/{year}/\"\n",
    "    # base_url = f\"https://themis.ssl.berkeley.edu/data/themis/tha/l1/state/{year}/\"\n",
    "    \n",
    "    download_dir = \"data/tha/fgm_2007_2025\"\n",
    "    # download_dir = \"data/tha/mom_2007_2025\"\n",
    "    # download_dir = \"data/tha/state_2007_2025\"\n",
    "\n",
    "    download_themis_data(base_url, start_date, end_date, download_dir)"
   ]
  },
  {
   "cell_type": "code",
   "execution_count": null,
   "id": "31147c13",
   "metadata": {},
   "outputs": [],
   "source": [
    "fgm_dates = set()\n",
    "\n",
    "for file_name in sorted(os.listdir(\"data/tha/fgm_2007_2025\")):\n",
    "    if file_name.startswith('.'):\n",
    "        continue\n",
    "    fgm_dates.add(file_name.split('_')[3])\n",
    "\n",
    "state_dates = set()\n",
    "\n",
    "for file_name in sorted(os.listdir(\"data/tha/state_2007_2025\")):\n",
    "    if file_name.startswith('.'):\n",
    "        continue\n",
    "    state_dates.add(file_name.split('_')[3])\n",
    "\n",
    "mom_dates = set()\n",
    "\n",
    "for file_name in sorted(os.listdir(\"data/tha/mom_2007_2025\")):\n",
    "    if file_name.startswith('.'):\n",
    "        continue\n",
    "    mom_dates.add(file_name.split('_')[3])\n",
    "\n",
    "valid_dates = sorted(mom_dates & fgm_dates & state_dates)"
   ]
  },
  {
   "cell_type": "code",
   "execution_count": null,
   "id": "e2fea41e",
   "metadata": {},
   "outputs": [],
   "source": [
    "raw_fgm_matrix = process_fgm_model(\"data/tha/fgm_2007_2025\", dates=valid_dates, satellite='tha')\n",
    "raw_state_matrix = process_state_model(\"data/tha/state_2007_2025\", dates=valid_dates, satellite='tha')\n",
    "raw_iplasma_matrix = process_mom_model(\"data/tha/mom_2007_2025\", dates=valid_dates, satellite='tha')\n",
    "\n",
    "raw_fgm_matrix.to_parquet('data/model_data/raw_fgm_matrix_tha.parquet', index=False)\n",
    "raw_state_matrix.to_parquet('data/model_data/raw_state_matrix_tha.parquet', index=False)\n",
    "raw_iplasma_matrix.to_parquet('data/model_data/raw_iplasma_matrix_tha.parquet', index=False)"
   ]
  },
  {
   "cell_type": "code",
   "execution_count": null,
   "id": "5feebc6f",
   "metadata": {},
   "outputs": [],
   "source": [
    "raw_fgm_matrix.to_parquet('data/model_data/raw_fgm_matrix_tha.parquet', index=False)\n",
    "raw_state_matrix.to_parquet('data/model_data/raw_state_matrix_tha.parquet', index=False)\n",
    "raw_iplasma_matrix.to_parquet('data/model_data/raw_iplasma_matrix_tha.parquet', index=False)"
   ]
  },
  {
   "cell_type": "code",
   "execution_count": null,
   "id": "54d5dad1",
   "metadata": {},
   "outputs": [],
   "source": [
    "interpolated_state = interpolate_columns(raw_state_matrix, raw_fgm_matrix['Time'], ['GSM_x', 'GSM_y'])\n",
    "interpolated_iplasma = interpolate_columns(raw_iplasma_matrix, raw_fgm_matrix['Time'], ['I_velocity_x', 'I_velocity_y', 'I_velocity_z'])\n",
    "\n",
    "interpolated_data = {**interpolated_state, **interpolated_iplasma}\n",
    "\n",
    "raw_matrix = pd.concat([raw_fgm_matrix.reset_index(drop=True), pd.DataFrame(interpolated_data)], axis=1)"
   ]
  },
  {
   "cell_type": "code",
   "execution_count": null,
   "id": "fc879cd5",
   "metadata": {},
   "outputs": [],
   "source": [
    "raw_matrix.to_parquet('data/model_data/raw_matrix_tha.parquet', index=False)"
   ]
  },
  {
   "cell_type": "code",
   "execution_count": null,
   "id": "cc6626f4",
   "metadata": {},
   "outputs": [],
   "source": [
    "raw_matrix.info()"
   ]
  },
  {
   "cell_type": "code",
   "execution_count": null,
   "id": "d8c55628",
   "metadata": {},
   "outputs": [],
   "source": [
    "RE = 6300\n",
    "\n",
    "final_matrix = (raw_matrix[\n",
    "        (raw_matrix['GSM_x'] < -9 * RE) & \n",
    "        (raw_matrix['GSM_y'].abs() < raw_matrix['GSM_x'].abs())\n",
    "    ]\n",
    "    .copy()\n",
    "    .dropna(subset=['I_velocity_x', 'I_velocity_y', 'I_velocity_z', 'Bx', 'By', 'Bz'])\n",
    "    .drop_duplicates(subset=['Time'], keep='last')\n",
    "    .sort_values(by=['Time'])\n",
    "    .reset_index(drop=True)\n",
    ")"
   ]
  },
  {
   "cell_type": "code",
   "execution_count": null,
   "id": "e964816a",
   "metadata": {},
   "outputs": [],
   "source": [
    "V = final_matrix[['I_velocity_x', 'I_velocity_y', 'I_velocity_z']].values\n",
    "B = final_matrix[['Bx', 'By', 'Bz']].values\n",
    "\n",
    "V_dot_B = np.sum(V * B, axis=1)\n",
    "V_mag_sq = np.sum(V**2, axis=1)\n",
    "B_mag_sq = np.sum(B**2, axis=1)\n",
    "\n",
    "V_perp_sq = V_mag_sq - (V_dot_B**2 / (B_mag_sq))\n",
    "final_matrix['|V_perp|'] = np.sqrt(np.clip(V_perp_sq, 0, None))"
   ]
  },
  {
   "cell_type": "code",
   "execution_count": null,
   "id": "382de355",
   "metadata": {},
   "outputs": [],
   "source": [
    "final_matrix.to_parquet('data/model_data/final_matrix_tha_perp.parquet', index=False)"
   ]
  }
 ],
 "metadata": {
  "kernelspec": {
   "display_name": "space_dev",
   "language": "python",
   "name": "python3"
  },
  "language_info": {
   "name": "python",
   "version": "3.11.11"
  }
 },
 "nbformat": 4,
 "nbformat_minor": 5
}
