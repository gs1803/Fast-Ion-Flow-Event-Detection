{
 "cells": [
  {
   "cell_type": "markdown",
   "id": "a38d4b19",
   "metadata": {},
   "source": [
    "This notebook loads and groups THEMIS satellite datasets by time gaps, merges and shuffles them to create a combined dataset, then saves it for modeling"
   ]
  },
  {
   "cell_type": "code",
   "execution_count": null,
   "id": "ed5590a5",
   "metadata": {},
   "outputs": [],
   "source": [
    "import pandas as pd\n",
    "import random"
   ]
  },
  {
   "cell_type": "code",
   "execution_count": null,
   "id": "ab59d111",
   "metadata": {},
   "outputs": [],
   "source": [
    "tha_df = pd.read_parquet(\"data/v80/final_model_data_tha_scaled.parquet\")\n",
    "thd_df = pd.read_parquet(\"data/v80/final_model_data_thd_scaled.parquet\")\n",
    "the_df = pd.read_parquet(\"data/v80/final_model_data_the_scaled.parquet\")"
   ]
  },
  {
   "cell_type": "code",
   "execution_count": null,
   "id": "f7d49afc",
   "metadata": {},
   "outputs": [],
   "source": [
    "tha_seqs = tha_df.groupby((tha_df['Epoch_time'].diff() > 300).cumsum()).apply(lambda x: list(x.index)).values\n",
    "thd_seqs = thd_df.groupby((thd_df['Epoch_time'].diff() > 300).cumsum()).apply(lambda x: list(x.index)).values\n",
    "the_seqs = the_df.groupby((the_df['Epoch_time'].diff() > 300).cumsum()).apply(lambda x: list(x.index)).values"
   ]
  },
  {
   "cell_type": "code",
   "execution_count": null,
   "id": "3b3319ae",
   "metadata": {},
   "outputs": [],
   "source": [
    "tha_dict = {f'{i}_A': sublist for i, sublist in enumerate(tha_seqs)}\n",
    "thd_dict = {f'{i}_D': sublist for i, sublist in enumerate(thd_seqs)}\n",
    "the_dict = {f'{i}_E': sublist for i, sublist in enumerate(the_seqs)}"
   ]
  },
  {
   "cell_type": "code",
   "execution_count": null,
   "id": "a8ea41d6",
   "metadata": {},
   "outputs": [],
   "source": [
    "merged_dict = {**tha_dict, **thd_dict, **the_dict}"
   ]
  },
  {
   "cell_type": "code",
   "execution_count": null,
   "id": "7c9e4fec",
   "metadata": {},
   "outputs": [],
   "source": [
    "random.seed(18)\n",
    "\n",
    "items = list(merged_dict.items())\n",
    "random.shuffle(items)"
   ]
  },
  {
   "cell_type": "code",
   "execution_count": 9,
   "id": "b84ea4de",
   "metadata": {},
   "outputs": [],
   "source": [
    "randomized_dict = dict(items)"
   ]
  },
  {
   "cell_type": "code",
   "execution_count": null,
   "id": "d889ee3c",
   "metadata": {},
   "outputs": [],
   "source": [
    "df_map = {\n",
    "    'A': tha_df,\n",
    "    'D': thd_df,\n",
    "    'E': the_df\n",
    "}"
   ]
  },
  {
   "cell_type": "code",
   "execution_count": 11,
   "id": "ffacbaaa",
   "metadata": {},
   "outputs": [],
   "source": [
    "selected_rows = []\n",
    "\n",
    "for key, indices in randomized_dict.items():\n",
    "    df = df_map[key[-1]]\n",
    "    selected = df.iloc[indices]\n",
    "    selected_rows.append(selected)\n",
    "\n",
    "giant_dataset = pd.concat(selected_rows, ignore_index=True)"
   ]
  },
  {
   "cell_type": "code",
   "execution_count": null,
   "id": "a0ee2c93",
   "metadata": {},
   "outputs": [],
   "source": [
    "giant_dataset.to_parquet(\"data/final_model_data_all_scaled.parquet\")"
   ]
  },
  {
   "cell_type": "code",
   "execution_count": 13,
   "id": "a5f7dd3c",
   "metadata": {},
   "outputs": [
    {
     "data": {
      "text/plain": [
       "(40696367, 18)"
      ]
     },
     "execution_count": 13,
     "metadata": {},
     "output_type": "execute_result"
    }
   ],
   "source": [
    "giant_dataset.shape"
   ]
  },
  {
   "cell_type": "code",
   "execution_count": 14,
   "id": "a3c4590e",
   "metadata": {},
   "outputs": [
    {
     "data": {
      "text/plain": [
       "Event_label_100\n",
       "0    0.734866\n",
       "1    0.265134\n",
       "Name: proportion, dtype: float64"
      ]
     },
     "execution_count": 14,
     "metadata": {},
     "output_type": "execute_result"
    }
   ],
   "source": [
    "giant_dataset['Event_label_100'].value_counts(normalize=True)"
   ]
  },
  {
   "cell_type": "code",
   "execution_count": 15,
   "id": "03ac2646",
   "metadata": {},
   "outputs": [
    {
     "data": {
      "text/plain": [
       "Event_label_80\n",
       "0    0.648822\n",
       "1    0.351178\n",
       "Name: proportion, dtype: float64"
      ]
     },
     "execution_count": 15,
     "metadata": {},
     "output_type": "execute_result"
    }
   ],
   "source": [
    "giant_dataset['Event_label_80'].value_counts(normalize=True)"
   ]
  },
  {
   "cell_type": "code",
   "execution_count": null,
   "id": "6691da21",
   "metadata": {},
   "outputs": [],
   "source": [
    "tha_label = pd.read_parquet(\"data/final_matrix_tha_perp_labeled_v80.parquet\")[['|V_perp|', 'Event_class', 'Event_label']][2:].reset_index(drop=True)\n",
    "thd_label = pd.read_parquet(\"data/final_matrix_thd_perp_labeled_v80.parquet\")[['|V_perp|', 'Event_class', 'Event_label']][2:].reset_index(drop=True)\n",
    "the_label = pd.read_parquet(\"data/final_matrix_the_perp_labeled_v80.parquet\")[['|V_perp|', 'Event_class', 'Event_label']][2:].reset_index(drop=True)"
   ]
  },
  {
   "cell_type": "code",
   "execution_count": null,
   "id": "5d4f4cb7",
   "metadata": {},
   "outputs": [],
   "source": [
    "tha_label['Satellite'] = len(tha_label) * ['THEMIS A']\n",
    "thd_label['Satellite'] = len(thd_label) * ['THEMIS D']\n",
    "the_label['Satellite'] = len(the_label) * ['THEMIS E']"
   ]
  },
  {
   "cell_type": "code",
   "execution_count": null,
   "id": "32d263ab",
   "metadata": {},
   "outputs": [],
   "source": [
    "df_label_map = {\n",
    "    'A': tha_label,\n",
    "    'D': thd_label,\n",
    "    'E': the_label\n",
    "}"
   ]
  },
  {
   "cell_type": "code",
   "execution_count": null,
   "id": "60f48144",
   "metadata": {},
   "outputs": [],
   "source": [
    "selected_rows = []\n",
    "\n",
    "for key, indices in randomized_dict.items():\n",
    "    df = df_label_map[key[-1]]\n",
    "    selected = df.iloc[indices]\n",
    "    selected_rows.append(selected)\n",
    "\n",
    "giant_labels = pd.concat(selected_rows, ignore_index=True)"
   ]
  },
  {
   "cell_type": "code",
   "execution_count": null,
   "id": "8da47deb",
   "metadata": {},
   "outputs": [
    {
     "data": {
      "text/plain": [
       "Index(['|V_perp|', 'Event_class', 'Event_label', 'Satellite'], dtype='object')"
      ]
     },
     "execution_count": 61,
     "metadata": {},
     "output_type": "execute_result"
    }
   ],
   "source": [
    "giant_labels.columns"
   ]
  },
  {
   "cell_type": "code",
   "execution_count": null,
   "id": "a40ad697",
   "metadata": {},
   "outputs": [
    {
     "data": {
      "text/plain": [
       "Satellite\n",
       "THEMIS A    21360590\n",
       "THEMIS D    19335777\n",
       "THEMIS E    16721136\n",
       "Name: count, dtype: int64"
      ]
     },
     "execution_count": 63,
     "metadata": {},
     "output_type": "execute_result"
    }
   ],
   "source": [
    "giant_labels['Satellite'].value_counts()"
   ]
  },
  {
   "cell_type": "code",
   "execution_count": null,
   "id": "031ac697",
   "metadata": {},
   "outputs": [],
   "source": [
    "giant_dataset[['|V_perp|', 'Event_class', 'Event_label', 'Satellite']] = giant_labels[['|V_perp|', 'Event_class', 'Event_label', 'Satellite']]"
   ]
  },
  {
   "cell_type": "code",
   "execution_count": null,
   "id": "b589b593",
   "metadata": {},
   "outputs": [],
   "source": [
    "split = int(0.8 * len(giant_dataset))\n",
    "giant_test = giant_dataset[split:]"
   ]
  },
  {
   "cell_type": "code",
   "execution_count": null,
   "id": "435c0b1c",
   "metadata": {},
   "outputs": [],
   "source": [
    "giant_dataset.to_parquet(\"data/final_model_data_all_labeled_test.parquet\")"
   ]
  }
 ],
 "metadata": {
  "kernelspec": {
   "display_name": "space_dev",
   "language": "python",
   "name": "python3"
  },
  "language_info": {
   "codemirror_mode": {
    "name": "ipython",
    "version": 3
   },
   "file_extension": ".py",
   "mimetype": "text/x-python",
   "name": "python",
   "nbconvert_exporter": "python",
   "pygments_lexer": "ipython3",
   "version": "3.11.11"
  }
 },
 "nbformat": 4,
 "nbformat_minor": 5
}
